{
 "cells": [
  {
   "cell_type": "markdown",
   "id": "71dd6c13",
   "metadata": {},
   "source": [
    "# Notebook 1: Hello World\n",
    "\n",
    "Crystal Li, 1/19/24"
   ]
  },
  {
   "cell_type": "markdown",
   "id": "76a58a38",
   "metadata": {},
   "source": [
    "## Markdown Exercises\n",
    "\n",
    "1. I'm interested in machine learning because it's an exciting field of AI that makes use of the **massive amount of data** we have in this everchanging world to *solve complex problems*. It's amazing how it can be applied to things like image recognition, recommendations, and medical diagnosis. \n",
    "\n",
    "2. From this course, I'd like to learn the following:\n",
    " - basic principles of **probability and statistics**\n",
    " - understand how they can be applied to ML \n",
    " - *classification, clustering, and regression* \n"
   ]
  },
  {
   "cell_type": "markdown",
   "id": "fe952c75",
   "metadata": {},
   "source": [
    "![alt text](https://media.giphy.com/media/26tP7Lltx6BaMhKfK/giphy.gif \"gif\")\n"
   ]
  },
  {
   "cell_type": "markdown",
   "id": "9dde2a73",
   "metadata": {},
   "source": [
    "## Jupyter Notebook Exercises"
   ]
  },
  {
   "cell_type": "code",
   "execution_count": 2,
   "id": "ca168d30",
   "metadata": {},
   "outputs": [
    {
     "name": "stdout",
     "output_type": "stream",
     "text": [
      "What is your name? Crystal\n",
      "Hello Crystal !\n"
     ]
    }
   ],
   "source": [
    "name = input(prompt=\"What is your name? \")\n",
    "print(\"Hello\", name, \"!\")"
   ]
  },
  {
   "cell_type": "markdown",
   "id": "c9183b97",
   "metadata": {},
   "source": []
  }
 ],
 "metadata": {
  "kernelspec": {
   "display_name": "Python 3 (ipykernel)",
   "language": "python",
   "name": "python3"
  },
  "language_info": {
   "codemirror_mode": {
    "name": "ipython",
    "version": 3
   },
   "file_extension": ".py",
   "mimetype": "text/x-python",
   "name": "python",
   "nbconvert_exporter": "python",
   "pygments_lexer": "ipython3",
   "version": "3.11.4"
  }
 },
 "nbformat": 4,
 "nbformat_minor": 5
}
