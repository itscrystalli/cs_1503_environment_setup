{
 "cells": [
  {
   "cell_type": "markdown",
   "metadata": {},
   "source": [
    "# 2. Programming in Python\n",
    "\n",
    "Go over these basics of the Python programming language if you need to refresh Python syntax. \n",
    "\n",
    "Do all the exercises at the end of this notebook -- but only if you are new to  Python. Use your TAs for help if you get stuck.\n",
    "\n",
    "If you already know how to program in Python, then go directly to **Exercise 7** and **Exercise 8** at the end of this notebook and complete them to self-test your skills.\n",
    "\n",
    "If you feel that you need more details on Python language, you can use the following book:"
   ]
  },
  {
   "cell_type": "markdown",
   "metadata": {},
   "source": [
    "## Book *Python for Everybody*\n",
    "\n",
    "*Python for Everybody* is a free online textbook published under the Creative Commons Licence that is a great starter and reference guide for python. The book is available as a PDF and epub from the writer for free [here](https://www.py4e.com/book.php).  Some sections of *Python for Everybody* have been adapted from another book, *How to think like a Computer Scientist: Learning with Python* by Allen Downey, Jeff Elkner and Chris Meyers.  This book is also available for free online [here](https://greenteapress.com/wp/learning-with-python/)."
   ]
  },
  {
   "cell_type": "markdown",
   "metadata": {},
   "source": [
    "## Strings\n",
    "* The syntax for strings is double (\") or single (') quotes."
   ]
  },
  {
   "cell_type": "code",
   "execution_count": 65,
   "metadata": {},
   "outputs": [
    {
     "name": "stdout",
     "output_type": "stream",
     "text": [
      "hello world\n"
     ]
    }
   ],
   "source": [
    "print(\"hello world\")"
   ]
  },
  {
   "cell_type": "code",
   "execution_count": 66,
   "metadata": {},
   "outputs": [
    {
     "ename": "SyntaxError",
     "evalue": "invalid syntax (2497053111.py, line 1)",
     "output_type": "error",
     "traceback": [
      "\u001b[0;36m  Cell \u001b[0;32mIn[66], line 1\u001b[0;36m\u001b[0m\n\u001b[0;31m    print(hello world)\u001b[0m\n\u001b[0m                ^\u001b[0m\n\u001b[0;31mSyntaxError\u001b[0m\u001b[0;31m:\u001b[0m invalid syntax\n"
     ]
    }
   ],
   "source": [
    "print(hello world)"
   ]
  },
  {
   "cell_type": "code",
   "execution_count": null,
   "metadata": {},
   "outputs": [],
   "source": [
    "type(\"Hello World\")"
   ]
  },
  {
   "cell_type": "code",
   "execution_count": null,
   "metadata": {},
   "outputs": [],
   "source": [
    "type('Hello World')"
   ]
  },
  {
   "cell_type": "markdown",
   "metadata": {},
   "source": [
    "* Note: You can't mix and match quotes!"
   ]
  },
  {
   "cell_type": "code",
   "execution_count": null,
   "metadata": {},
   "outputs": [],
   "source": [
    "print(\"Hello world')"
   ]
  },
  {
   "cell_type": "markdown",
   "metadata": {},
   "source": [
    "* Most people use double quotes because then you can embed apostrophes inside the text."
   ]
  },
  {
   "cell_type": "code",
   "execution_count": null,
   "metadata": {},
   "outputs": [],
   "source": [
    "print('I can','t even!')"
   ]
  },
  {
   "cell_type": "code",
   "execution_count": null,
   "metadata": {},
   "outputs": [],
   "source": [
    "print(\"I can't even, \\n either!\")"
   ]
  },
  {
   "cell_type": "markdown",
   "metadata": {},
   "source": [
    "---"
   ]
  },
  {
   "cell_type": "markdown",
   "metadata": {},
   "source": [
    "## Variables"
   ]
  },
  {
   "cell_type": "code",
   "execution_count": null,
   "metadata": {},
   "outputs": [],
   "source": [
    "message = \"Hello, what a wonderful Thursday morning.\"\n",
    "number = 3\n",
    "pi = 3.1415926535897931"
   ]
  },
  {
   "cell_type": "markdown",
   "metadata": {},
   "source": [
    "* This code creates three variables of different data types.\n",
    "* The `type` of a variable is deduced freom the type of the value it refers to."
   ]
  },
  {
   "cell_type": "code",
   "execution_count": null,
   "metadata": {},
   "outputs": [],
   "source": [
    "type(message)"
   ]
  },
  {
   "cell_type": "code",
   "execution_count": null,
   "metadata": {},
   "outputs": [],
   "source": [
    "type(number)"
   ]
  },
  {
   "cell_type": "code",
   "execution_count": null,
   "metadata": {},
   "outputs": [],
   "source": [
    "type(pi)"
   ]
  },
  {
   "cell_type": "markdown",
   "metadata": {},
   "source": [
    "---"
   ]
  },
  {
   "cell_type": "markdown",
   "metadata": {},
   "source": [
    "## Operators\n",
    "\n",
    "* All of the mathematical operators you know and love are available in Python\n",
    "    * Addition: `+`\n",
    "    * Subtraction: `-`\n",
    "    * Multiplication: `*`\n",
    "    * Division: `/`  (the result is always a float)\n",
    "    * Integer division: `//` (produces an integral part of division without remainder)\n",
    "    * Modulus: `%` (remainder after integer division)"
   ]
  },
  {
   "cell_type": "markdown",
   "metadata": {},
   "source": [
    "### String Operators\n",
    "\n",
    "* You can concatenate strings using `+` operator. You cannot concatenate mixed data types in Python:"
   ]
  },
  {
   "cell_type": "code",
   "execution_count": null,
   "metadata": {},
   "outputs": [],
   "source": [
    "a = 2\n",
    "b = '2'\n",
    "\n",
    "a + b"
   ]
  },
  {
   "cell_type": "markdown",
   "metadata": {},
   "source": [
    "To correct: convert the number to string"
   ]
  },
  {
   "cell_type": "code",
   "execution_count": null,
   "metadata": {},
   "outputs": [],
   "source": [
    "a = str(2)\n",
    "b = '2'\n",
    "\n",
    "a + b"
   ]
  },
  {
   "cell_type": "markdown",
   "metadata": {},
   "source": [
    "---"
   ]
  },
  {
   "cell_type": "markdown",
   "metadata": {},
   "source": [
    "## User Input"
   ]
  },
  {
   "cell_type": "code",
   "execution_count": null,
   "metadata": {},
   "outputs": [],
   "source": [
    "# ask for the user's name and put it in a variable called name\n",
    "name = input(\"What is your name?\")"
   ]
  },
  {
   "cell_type": "code",
   "execution_count": null,
   "metadata": {},
   "outputs": [],
   "source": [
    "# now print the contents of the variable called name\n",
    "print(name)"
   ]
  },
  {
   "cell_type": "markdown",
   "metadata": {},
   "source": [
    "---"
   ]
  },
  {
   "cell_type": "markdown",
   "metadata": {},
   "source": [
    "## Functions\n",
    "\n",
    "A **function**, most basically, is a piece of code that executes together when you call the function's name."
   ]
  },
  {
   "cell_type": "code",
   "execution_count": null,
   "metadata": {},
   "outputs": [],
   "source": [
    "def lyrics():\n",
    "    print(\"This is the song that never ends.\")\n",
    "    print(\"It goes on and on, my friends.\")\n",
    "\n",
    "def song():\n",
    "    lyrics()\n",
    "    lyrics()\n",
    "    \n",
    "song()"
   ]
  },
  {
   "cell_type": "markdown",
   "metadata": {},
   "source": [
    "---"
   ]
  },
  {
   "cell_type": "markdown",
   "metadata": {},
   "source": [
    "## Control Flow\n",
    "\n",
    "* We use *boolean expressions* (True, False) to answer Yes/No questions and decide which path to execute."
   ]
  },
  {
   "cell_type": "markdown",
   "metadata": {},
   "source": [
    "### Conditional execution\n",
    "\n",
    "* use the `if`, `else`, and `elif` statements to steer the direction of your program.\n",
    "* indent the code block to show that it is executed when the condition is true."
   ]
  },
  {
   "cell_type": "code",
   "execution_count": null,
   "metadata": {},
   "outputs": [],
   "source": [
    "# test to see if x is positive and print if it is\n",
    "x = 5\n",
    "if x > 0:\n",
    "    print(\"x is a positive number\")"
   ]
  },
  {
   "cell_type": "code",
   "execution_count": null,
   "metadata": {},
   "outputs": [],
   "source": [
    "if x == 5:\n",
    "    print(\"yup\")\n",
    "    print(\"Yup, five is five\")"
   ]
  },
  {
   "cell_type": "code",
   "execution_count": null,
   "metadata": {},
   "outputs": [],
   "source": [
    "if 5 == 6:\n",
    "    print(\"five is six, huh?\")\n",
    "    print(\"this won't run\")\n",
    "    \n",
    "# This line executes no matter what\n",
    "print(\"I am done.\")"
   ]
  },
  {
   "cell_type": "code",
   "execution_count": null,
   "metadata": {},
   "outputs": [],
   "source": [
    "# check to see if x is even or odd\n",
    "x = 20\n",
    "if (x % 2) == 0: # using the modulo operator\n",
    "    print(\"x is even\")\n",
    "else:\n",
    "    print(\"x is odd\")"
   ]
  },
  {
   "cell_type": "code",
   "execution_count": null,
   "metadata": {},
   "outputs": [],
   "source": [
    "# multiple conditions\n",
    "age = int(input(\"Give me your age\"))\n",
    "\n",
    "if 0 < age < 1:\n",
    "    print(\"baby\")\n",
    "elif 1 <= age <= 3:\n",
    "    print(\"toddler\")\n",
    "elif 3 <= age <= 9:\n",
    "    print(\"kid\")\n",
    "elif 10 <= age <= 12:\n",
    "    print(\"Tween\")\n",
    "elif 13 <= age <= 17:\n",
    "    print(\"Teen\")\n",
    "elif 18 <= age < 120:\n",
    "    print(\"Adult, welcome to misery.\")\n",
    "else:\n",
    "    print(\"No one can live that long!\")\n",
    "    "
   ]
  },
  {
   "cell_type": "markdown",
   "metadata": {},
   "source": [
    "### While loops\n",
    "\n",
    "The while loops allow you to repeat an arbitrary section of code as long as some boolean condition is true:"
   ]
  },
  {
   "cell_type": "code",
   "execution_count": null,
   "metadata": {},
   "outputs": [],
   "source": [
    "count = 0\n",
    "\n",
    "while count<5:\n",
    "    lyrics()\n",
    "    count += 1"
   ]
  },
  {
   "cell_type": "markdown",
   "metadata": {},
   "source": [
    "### For loops\n",
    "For loops allow you to repeat a section of code a predefined number of times. There are no proper For loops in Python. All for loops are over sequences. \n",
    "\n",
    "If the sequence exists the loop body is executed for each element of the sequence:  "
   ]
  },
  {
   "cell_type": "code",
   "execution_count": null,
   "metadata": {},
   "outputs": [],
   "source": [
    "my_friends = [\"Bob\", \"Susan\", \"Noah\", \"Amanda\"]\n",
    "\n",
    "for friend in my_friends:\n",
    "    print(\"Hello,\", friend)"
   ]
  },
  {
   "cell_type": "markdown",
   "metadata": {},
   "source": [
    "But for example to execute the *lyrics* function 5 times, we first need to create a sequence of numbers (0,1,2,3,4) and then use the for loop that iterates over this sequence."
   ]
  },
  {
   "cell_type": "code",
   "execution_count": null,
   "metadata": {},
   "outputs": [],
   "source": [
    "def lyrics():\n",
    "    print(\"This is the song that never ends.\")\n",
    "    print(\"It goes on and on, my friends.\")\n",
    "\n",
    "for i in range(5):\n",
    "    lyrics()\n",
    "    count += 1"
   ]
  },
  {
   "cell_type": "markdown",
   "metadata": {},
   "source": [
    "---"
   ]
  },
  {
   "cell_type": "markdown",
   "metadata": {},
   "source": [
    "## Exception Handling\n",
    "\n",
    "* Sometimes you rely on the user to give you a number but they give you something else\n",
    "* If you try to convert this input to a number you will get an error\n",
    "\n",
    "Try to run the following and enter the string \"two\" when prompted:"
   ]
  },
  {
   "cell_type": "code",
   "execution_count": null,
   "metadata": {},
   "outputs": [],
   "source": [
    "# prompt the user for a number\n",
    "number = input(\"Input a number:\")\n",
    "doubled = number*2"
   ]
  },
  {
   "cell_type": "markdown",
   "metadata": {},
   "source": [
    "You can use the `try/except` statements to \"catch\" user error."
   ]
  },
  {
   "cell_type": "code",
   "execution_count": null,
   "metadata": {},
   "outputs": [],
   "source": [
    "# prompt the user for a number\n",
    "number = input(\"Input a number:\")\n",
    "try:\n",
    "    int_number = int(number)\n",
    "    print(\"Thank you for inputting an integer\")\n",
    "except:    \n",
    "    print(\"That is not a number. Try again\")"
   ]
  },
  {
   "cell_type": "markdown",
   "metadata": {},
   "source": [
    "---"
   ]
  },
  {
   "cell_type": "markdown",
   "metadata": {},
   "source": [
    "## Packages\n",
    "\n",
    "Functionalities provided by Python are grouped into **packages**. To use the functionality defined in the package just put the words `import` and the package name you want to import. "
   ]
  },
  {
   "cell_type": "code",
   "execution_count": null,
   "metadata": {},
   "outputs": [],
   "source": [
    "import random # see how easy that is?\n",
    "\n",
    "x = random.random()\n",
    "print(x)"
   ]
  },
  {
   "cell_type": "markdown",
   "metadata": {},
   "source": [
    "---"
   ]
  },
  {
   "cell_type": "markdown",
   "metadata": {},
   "source": [
    "## Files\n",
    "\n",
    "Opening files in Python is just as simple as knowing the name of the file.\n",
    "\n",
    "Whenever you open a file, you should always *always* **always** make sure you **close the file!**. Not closing a file has many potential side effects."
   ]
  },
  {
   "cell_type": "code",
   "execution_count": null,
   "metadata": {},
   "outputs": [],
   "source": [
    "myfile = open(\"info.txt\")\n",
    "count = 0\n",
    "\n",
    "for line in myfile:\n",
    "    count = count + 1\n",
    "print('Line Count:', count)"
   ]
  },
  {
   "cell_type": "code",
   "execution_count": null,
   "metadata": {},
   "outputs": [],
   "source": [
    "infofile = open(\"info.txt\")\n",
    "\n",
    "firstline = infofile.readline()\n",
    "secondline = infofile.readline()\n",
    "\n",
    "f = firstline.split()\n",
    "s = secondline.split()\n",
    "\n",
    "print(f)\n",
    "print(s)\n",
    "\n",
    "infofile.close()"
   ]
  },
  {
   "cell_type": "markdown",
   "metadata": {},
   "source": [
    "---"
   ]
  },
  {
   "cell_type": "markdown",
   "metadata": {},
   "source": [
    "## Lists"
   ]
  },
  {
   "cell_type": "code",
   "execution_count": null,
   "metadata": {},
   "outputs": [],
   "source": [
    "my_friends = [\"Bob\", \"Samson\", \"Tom\", \"Amanda\"]\n",
    "\n",
    "for friend in my_friends:\n",
    "    print(\"Hello,\", friend)"
   ]
  },
  {
   "cell_type": "code",
   "execution_count": null,
   "metadata": {},
   "outputs": [],
   "source": [
    "my_friends.append(\"Jeff\")\n",
    "my_friends.sort()\n",
    "my_friends"
   ]
  },
  {
   "cell_type": "code",
   "execution_count": null,
   "metadata": {},
   "outputs": [],
   "source": [
    "my_friends.remove(\"Tom\")\n",
    "my_friends"
   ]
  },
  {
   "cell_type": "markdown",
   "metadata": {},
   "source": [
    "---"
   ]
  },
  {
   "cell_type": "markdown",
   "metadata": {},
   "source": [
    "## Dictionaries\n",
    "* key-value pairs\n",
    "* fast lookup of a value by key"
   ]
  },
  {
   "cell_type": "code",
   "execution_count": null,
   "metadata": {},
   "outputs": [],
   "source": [
    "counts = {'chuck': 1 , 'annie': 42, 'jan': 100}\n",
    "\n",
    "print(counts['chuck'])"
   ]
  },
  {
   "cell_type": "code",
   "execution_count": null,
   "metadata": {},
   "outputs": [],
   "source": [
    "counts['lucy'] = 5\n",
    "\n",
    "print(counts)"
   ]
  },
  {
   "cell_type": "code",
   "execution_count": null,
   "metadata": {},
   "outputs": [],
   "source": [
    "coolfriends = {'Susanne': True, 'Bob': True, 'Tom': False}\n",
    "french = {\n",
    "    'hello': 'bonjour',\n",
    "    'your elephant is on fire': 'ton éléphant est en feu',\n",
    "    'ask the owl': 'demander à la choutte',\n",
    "}\n",
    "\n",
    "print(\"Is Tom a cool friend?\", coolfriends['Tom'])\n",
    "print(\"'Hello' in French is\", french['hello'])"
   ]
  },
  {
   "cell_type": "markdown",
   "metadata": {},
   "source": [
    "## Test yourself with these exercises\n",
    "\n",
    "#### **Exercise 1**\n",
    "\n",
    "Write a program which prompts the user for a **temperature** and then asks if it was Celsius or Fahrenheit. If it was Celsius, **convert it** to Fahrenheit; if Fahrenheit, convert to Celsius. Then, **print** the converted temperature. \n",
    "\n",
    "Make sure that the program does not fail when the user enters an invalid input.\n",
    "\n",
    "You'll have to search for the conversion formula and then implement it in code. Also, you don't have to ask the user to type in \"Celsius\" or \"Fahrenheit\"; your prompt can be as simple as \"Enter 1 if this temperature was Fahrenheit, or 0 if it was Celsius.\" That way, you're able to do something like `if isFahrenheit == 0` rather than exact string matching."
   ]
  },
  {
   "cell_type": "code",
   "execution_count": null,
   "metadata": {},
   "outputs": [],
   "source": [
    "# your code here"
   ]
  },
  {
   "cell_type": "markdown",
   "metadata": {},
   "source": [
    "#### **Exercise 2**\n",
    "\n",
    "You're going to make a program that takes scores on a scale of 0 to 100 and returns a letter grade. If the user enters a valid score, print out a letter from A to F. If the user enters invalid input, print out an error message.\n",
    "\n",
    "Use the following table to do your conversions: \n",
    "    \n",
    "Score  | Grade\n",
    "-------|-------\n",
    "94-100 | A\n",
    "85-93  | B\n",
    "74-84  | C\n",
    "63-73  | D\n",
    "≤62    | F\n",
    "    \n",
    "(Note: this *isn't* the scale we're using in this class. Just an example. :D)\n",
    "\n",
    "Make sure you **test your program multiple times** with different inputs to make sure you handled errors and the different scores properly. You won't be graded on this, but **commenting** your code can make it easier for you to understand the many different statements in a row that you'll be writing."
   ]
  },
  {
   "cell_type": "code",
   "execution_count": null,
   "metadata": {},
   "outputs": [],
   "source": [
    "# your code here"
   ]
  },
  {
   "cell_type": "markdown",
   "metadata": {},
   "source": [
    "#### **Exercise 3**\n",
    "\n",
    "Write a program that **lets the user enter** as many integers as they want. When any input that's not an integer is entered, the user is done entering integers. After they're done, print out the **average** of all the integers entered.\n",
    "\n",
    "Be sure to test this with a wide range of numbers, to make sure it's doing what you want it to."
   ]
  },
  {
   "cell_type": "code",
   "execution_count": null,
   "metadata": {},
   "outputs": [],
   "source": [
    "# your code here"
   ]
  },
  {
   "cell_type": "markdown",
   "metadata": {},
   "source": [
    "#### **Exercise 4**\n",
    "\n",
    "Write a program that lets a user **enter a string**, and have your program **how many** vowels and consonants are in the word  (vowels are 'aeiou' -- the rest are consonants).\n",
    "\n",
    "You're going to want to convert the string to all lower-case before you do any counts of characters. \n",
    "\n",
    "Once you have the number of vowels, you don't have to loop through the word *again* to test for consonants. How can you find the number of consonants in a word with just the number of vowels?"
   ]
  },
  {
   "cell_type": "code",
   "execution_count": null,
   "metadata": {},
   "outputs": [],
   "source": [
    "# your code here"
   ]
  },
  {
   "cell_type": "markdown",
   "metadata": {},
   "source": [
    "#### **Exercise 5**\n",
    "\n",
    "Below, you are given a string from a spam filter. Using string methods, get rid of everything before the colon and the spacing until you have just the number. Then, convert the number into a float, and convert it into a percentage. Print out the percentage."
   ]
  },
  {
   "cell_type": "code",
   "execution_count": null,
   "metadata": {},
   "outputs": [],
   "source": [
    "spam_string = 'X-DSPAM-Confidence: 0.8475 '\n",
    "\n",
    "# your code goes here"
   ]
  },
  {
   "cell_type": "markdown",
   "metadata": {},
   "source": [
    "#### **Exercise 6**\n",
    "\n",
    "Below are the lines of a program that adds some things to a list of my favorite foods, sorts the list, and then prints the foods out in alphabetical order. The problem is that, when I was uploading this program to the supercomputer, my internet stopped working and my program's lines got all mixed up.\n",
    "\n",
    "Your task is this: rearrange the lines below so the program sorts and then prints the elements in my list of foods. When you've got the order all sorted out, put it in the code cell below. And thanks for your help!\n",
    "\n",
    "```python\n",
    "my_fave_foods.sort()\n",
    "for food in my_fave_foods:\n",
    "my_fave_foods.append(\"asiago cheese\")\n",
    "my_fave_foods = [\"serrano peppers\", \"bananas\", \"apple pie\", \"veal\", \"smoked brisket\"]\n",
    "    print(food)\n",
    "```"
   ]
  },
  {
   "cell_type": "code",
   "execution_count": null,
   "metadata": {},
   "outputs": [],
   "source": [
    "# your code here"
   ]
  },
  {
   "cell_type": "markdown",
   "metadata": {},
   "source": [
    "#### **Exercise 7**\n",
    "This exercise deals with a test file, `spam.txt`. \n",
    "\n",
    "You're going to be writing a program that deals with a list of spam confidence values. The file, spam.txt, looks something like this:"
   ]
  },
  {
   "cell_type": "raw",
   "metadata": {},
   "source": [
    "X-DSPAM-Confidence: 0.8475\n",
    "X-DSPAM-Confidence: 0.9288\n",
    "X-DSPAM-Confidence: 0.0129\n",
    "X-DSPAM-Confidence: 0.5102\n",
    "X-DSPAM-Confidence: 0.8912\n",
    "..."
   ]
  },
  {
   "cell_type": "markdown",
   "metadata": {},
   "source": [
    "There are 500 spam confidence values in the file `spam1.txt`. I want you to tell me two things about the values:\n",
    "\n",
    "1. The **average** of all of the spam values in the file, and\n",
    "1. **How many** emails have a spam value of over 95% (so, >0.95).\n",
    "\n",
    "You'll need to read the file line by line and process each line so you can get the float."
   ]
  },
  {
   "cell_type": "code",
   "execution_count": null,
   "metadata": {},
   "outputs": [
    {
     "name": "stdout",
     "output_type": "stream",
     "text": [
      "average of all spam values in the file: 0.7507991999999993\n",
      "number of emails with spam value of over 95%: 68\n"
     ]
    }
   ],
   "source": [
    "# your code goes here\n",
    "with open(\"spam.txt\", \"r\") as spam_file:\n",
    "    spam_sum = 0\n",
    "    spam_count = 0\n",
    "    over_95_count = 0\n",
    "\n",
    "    for line in spam_file:\n",
    "        confidence = float(line.split(\": \")[1])\n",
    "        spam_sum += confidence\n",
    "        spam_count += 1\n",
    "        if confidence > 0.95:\n",
    "            over_95_count += 1\n",
    "\n",
    "print(\"average of all spam values in the file:\", (spam_sum / spam_count))\n",
    "print(\"number of emails with spam value of over 95%:\", over_95_count)"
   ]
  },
  {
   "cell_type": "markdown",
   "metadata": {},
   "source": [
    "#### **Exercise 8**\n",
    "Read in the file richard3.txt. Iterate through the lines in the file and, for each word, if this is its first occurence, add the word as a key to the dictionary and the number \"1\" as a value. If the word exists in the dictionary, add one to its value.\n",
    "\n",
    "Then, print out your word-frequency dictionary."
   ]
  },
  {
   "cell_type": "code",
   "execution_count": null,
   "metadata": {},
   "outputs": [
    {
     "name": "stdout",
     "output_type": "stream",
     "text": [
      "now: 3\n",
      "is: 1\n",
      "the: 13\n",
      "winter: 1\n",
      "of: 11\n",
      "our: 6\n",
      "discontent: 1\n",
      "made: 3\n",
      "glorious: 1\n",
      "summer: 1\n",
      "by: 4\n",
      "this: 5\n",
      "sun: 2\n",
      "york: 1\n",
      "and: 13\n",
      "all: 1\n",
      "clouds: 1\n",
      "that: 7\n",
      "lour'd: 1\n",
      "upon: 1\n",
      "house: 1\n",
      "in: 5\n",
      "deep: 1\n",
      "bosom: 1\n",
      "ocean: 1\n",
      "buried: 1\n",
      "are: 1\n",
      "brows: 1\n",
      "bound: 1\n",
      "with: 1\n",
      "victorious: 1\n",
      "wreaths: 1\n",
      "bruised: 1\n",
      "arms: 1\n",
      "hung: 1\n",
      "up: 3\n",
      "for: 2\n",
      "monuments: 1\n",
      "stern: 1\n",
      "alarums: 1\n",
      "changed: 1\n",
      "to: 12\n",
      "merry: 1\n",
      "meetings: 1\n",
      "dreadful: 1\n",
      "marches: 1\n",
      "delightful: 1\n",
      "measures: 1\n",
      "grim: 1\n",
      "visaged: 1\n",
      "war: 1\n",
      "hath: 1\n",
      "smooth'd: 1\n",
      "his: 1\n",
      "wrinkled: 1\n",
      "front: 1\n",
      "instead: 1\n",
      "mounting: 1\n",
      "barded: 1\n",
      "steeds: 1\n",
      "fright: 1\n",
      "souls: 1\n",
      "fearful: 1\n",
      "adversaries: 1\n",
      "he: 1\n",
      "capers: 1\n",
      "nimbly: 1\n",
      "a: 6\n",
      "lady's: 1\n",
      "chamber: 1\n",
      "lascivious: 1\n",
      "pleasing: 1\n",
      "lute: 1\n",
      "but: 1\n",
      "i: 9\n",
      "am: 5\n",
      "not: 1\n",
      "shaped: 1\n",
      "sportive: 1\n",
      "tricks: 1\n",
      "nor: 1\n",
      "court: 1\n",
      "an: 1\n",
      "amorous: 1\n",
      "looking: 1\n",
      "glass: 1\n",
      "rudely: 1\n",
      "stamp'd: 1\n",
      "want: 1\n",
      "love's: 1\n",
      "majesty: 1\n",
      "strut: 1\n",
      "before: 2\n",
      "wanton: 1\n",
      "ambling: 1\n",
      "nymph: 1\n",
      "curtail'd: 1\n",
      "fair: 2\n",
      "proportion: 1\n",
      "cheated: 1\n",
      "feature: 1\n",
      "dissembling: 1\n",
      "nature: 1\n",
      "deformed: 1\n",
      "unfinish'd: 1\n",
      "sent: 1\n",
      "my: 4\n",
      "time: 3\n",
      "into: 1\n",
      "breathing: 1\n",
      "world: 1\n",
      "scarce: 1\n",
      "half: 1\n",
      "so: 1\n",
      "lamely: 1\n",
      "unfashionable: 1\n",
      "dogs: 1\n",
      "bark: 1\n",
      "at: 1\n",
      "me: 1\n",
      "as: 3\n",
      "halt: 1\n",
      "them: 1\n",
      "why: 1\n",
      "weak: 1\n",
      "piping: 1\n",
      "peace: 1\n",
      "have: 2\n",
      "no: 1\n",
      "delight: 1\n",
      "pass: 1\n",
      "away: 1\n",
      "unless: 1\n",
      "spy: 1\n",
      "shadow: 1\n",
      "descant: 1\n",
      "on: 1\n",
      "mine: 1\n",
      "own: 1\n",
      "deformity: 1\n",
      "therefore: 1\n",
      "since: 1\n",
      "cannot: 1\n",
      "prove: 2\n",
      "lover: 1\n",
      "entertain: 1\n",
      "these: 2\n",
      "well: 1\n",
      "spoken: 1\n",
      "days: 2\n",
      "determined: 1\n",
      "villain: 1\n",
      "hate: 2\n",
      "idle: 1\n",
      "pleasures: 1\n",
      "plots: 1\n",
      "laid: 1\n",
      "inductions: 1\n",
      "dangerous: 1\n",
      "drunken: 1\n",
      "prophecies: 1\n",
      "libels: 1\n",
      "dreams: 1\n",
      "set: 1\n",
      "brother: 1\n",
      "clarence: 3\n",
      "king: 2\n",
      "deadly: 1\n",
      "one: 1\n",
      "against: 1\n",
      "other: 1\n",
      "if: 1\n",
      "edward: 1\n",
      "be: 3\n",
      "true: 1\n",
      "just: 1\n",
      "subtle: 1\n",
      "false: 1\n",
      "treacherous: 1\n",
      "day: 1\n",
      "should: 1\n",
      "closely: 1\n",
      "mew'd: 1\n",
      "about: 1\n",
      "prophecy: 1\n",
      "which: 1\n",
      "says: 1\n",
      "g: 1\n",
      "edward's: 1\n",
      "heirs: 1\n",
      "murderer: 1\n",
      "shall: 1\n",
      "dive: 1\n",
      "thoughts: 1\n",
      "down: 1\n",
      "soul: 1\n",
      "here: 1\n",
      "comes: 1\n"
     ]
    }
   ],
   "source": [
    "# your code here\n",
    "dictionary = {}\n",
    "\n",
    "with open(\"richard3.txt\", \"r\") as txt_file:\n",
    "    for line in txt_file:\n",
    "        words = line.lower().split()\n",
    "        for word in words: \n",
    "            if word in dictionary:\n",
    "                dictionary[word] += 1\n",
    "            else:\n",
    "                dictionary[word] = 1\n",
    "                \n",
    "for word, occurence_count in dictionary.items():\n",
    "    print(f\"{word}: {occurence_count}\")"
   ]
  }
 ],
 "metadata": {
  "kernelspec": {
   "display_name": "Python 3 (ipykernel)",
   "language": "python",
   "name": "python3"
  },
  "language_info": {
   "codemirror_mode": {
    "name": "ipython",
    "version": 3
   },
   "file_extension": ".py",
   "mimetype": "text/x-python",
   "name": "python",
   "nbconvert_exporter": "python",
   "pygments_lexer": "ipython3",
   "version": "3.9.6"
  }
 },
 "nbformat": 4,
 "nbformat_minor": 4
}
